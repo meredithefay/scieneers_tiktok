{
 "cells": [
  {
   "cell_type": "markdown",
   "id": "b9bf3b6a",
   "metadata": {},
   "source": [
    "## TikTok manuscript data analysis ##"
   ]
  },
  {
   "cell_type": "markdown",
   "id": "881db724",
   "metadata": {},
   "source": [
    "### Clustering methods (unsupervised methods to find natural groupings within data) ###"
   ]
  },
  {
   "cell_type": "code",
   "execution_count": 67,
   "id": "30bcc13d",
   "metadata": {},
   "outputs": [],
   "source": [
    "# Import libraries\n",
    "#   File management\n",
    "from tkinter import filedialog  # For selecting files\n",
    "import os  # For directory management\n",
    "import glob\n",
    "import shutil\n",
    "#   Number, file, and image management\n",
    "import seaborn as sns\n",
    "from sklearn.cluster import KMeans\n",
    "from sklearn import metrics\n",
    "import numpy as np  # For array management\n",
    "import pandas as pd  # For database management\n",
    "import random\n",
    "#   Plotting results\n",
    "import matplotlib.pyplot as plt  # For plotting result data\n",
    "from matplotlib import colors\n",
    "import seaborn as sns\n",
    "import datetime\n",
    "import itertools"
   ]
  },
  {
   "cell_type": "markdown",
   "id": "2c121e86",
   "metadata": {},
   "source": [
    "### Initial analysis ###"
   ]
  },
  {
   "cell_type": "markdown",
   "id": "da269218",
   "metadata": {},
   "source": [
    "**Step 1: Import TikTok data from specific filepath, set up results directory**"
   ]
  },
  {
   "cell_type": "code",
   "execution_count": 2,
   "id": "cd042c4b",
   "metadata": {},
   "outputs": [],
   "source": [
    "# Local path\n",
    "file = '/Users/meredithfay/Documents/PROJECT collaborations/Mo/Tiktok data analysis/Tiktok_data.xlsx'\n",
    "directory = os.path.dirname(file)"
   ]
  },
  {
   "cell_type": "code",
   "execution_count": 9,
   "id": "fd0dee8b",
   "metadata": {},
   "outputs": [
    {
     "name": "stdout",
     "output_type": "stream",
     "text": [
      "/Users/meredithfay/Documents/PROJECT collaborations/Mo/Tiktok data analysis/Clustering results, 12_16_2022, 10_07_01\n"
     ]
    }
   ],
   "source": [
    "# Create a \"results\" folder within the original directory to save results to\n",
    "now = datetime.datetime.now()\n",
    "\n",
    "# Create timestamped results directory\n",
    "output_folder = os.path.join(directory, 'Clustering results, ' + now.strftime(\"%m_%d_%Y, %H_%M_%S\"))\n",
    "os.mkdir(output_folder)\n",
    "os.chdir(output_folder)\n",
    "\n",
    "# Print current working directory\n",
    "# If you run this cell additional times, multiple directories will be created - results will be in most recent\n",
    "print(os.getcwd())"
   ]
  },
  {
   "cell_type": "code",
   "execution_count": 4,
   "id": "0e2264dd",
   "metadata": {},
   "outputs": [],
   "source": [
    "# Read data sheet\n",
    "sheet = pd.read_excel(file, sheet_name='Data', engine='openpyxl')"
   ]
  },
  {
   "cell_type": "code",
   "execution_count": 5,
   "id": "2f417e33",
   "metadata": {},
   "outputs": [
    {
     "name": "stdout",
     "output_type": "stream",
     "text": [
      "Index(['Name:', 'Date', 'Min. followers', 'Follower jump', 'Jump binary',\n",
      "       'views', 'Video Length (s)', 'Average Watch time (s)',\n",
      "       'Watched Full Video (%)', 'Reached Audience', 'likes', 'Comments',\n",
      "       'shares', 'bookmarks', 'Engagement', 'For You (%)', 'Personal Profile',\n",
      "       'Following (%)', 'Sound (%)', 'hashtag (%)', 'Promoted',\n",
      "       'How long to film', 'Posted Time', 'David', 'Miku', 'Luyao', 'Mo',\n",
      "       'Priscilla', 'Anjana', 'Alessandra', 'Adiya', 'Dozie', 'Lily', 'Nina',\n",
      "       'New followers', 'Category'],\n",
      "      dtype='object')\n"
     ]
    }
   ],
   "source": [
    "# Print columns\n",
    "print(sheet.columns)  # Some columns will have null values, remove as necessary"
   ]
  },
  {
   "cell_type": "code",
   "execution_count": 6,
   "id": "8268d6cd",
   "metadata": {},
   "outputs": [],
   "source": [
    "# Add column 'Time' representing number of days from start of account\n",
    "sheet['Time'] = (sheet['Date'] - sheet['Date'].iloc[0]) / np.timedelta64(1, 'D')"
   ]
  },
  {
   "cell_type": "code",
   "execution_count": 7,
   "id": "e642cf13",
   "metadata": {},
   "outputs": [
    {
     "data": {
      "text/plain": [
       "Name:                             object\n",
       "Date                      datetime64[ns]\n",
       "Min. followers                     int64\n",
       "Follower jump                      int64\n",
       "Jump binary                      float64\n",
       "views                              int64\n",
       "Video Length (s)                 float64\n",
       "Average Watch time (s)           float64\n",
       "Watched Full Video (%)           float64\n",
       "Reached Audience                 float64\n",
       "likes                            float64\n",
       "Comments                           int64\n",
       "shares                             int64\n",
       "bookmarks                          int64\n",
       "Engagement                         int64\n",
       "For You (%)                      float64\n",
       "Personal Profile                 float64\n",
       "Following (%)                    float64\n",
       "Sound (%)                        float64\n",
       "hashtag (%)                      float64\n",
       "Promoted                         float64\n",
       "How long to film                   int64\n",
       "Posted Time                       object\n",
       "David                              int64\n",
       "Miku                               int64\n",
       "Luyao                              int64\n",
       "Mo                                 int64\n",
       "Priscilla                          int64\n",
       "Anjana                             int64\n",
       "Alessandra                         int64\n",
       "Adiya                              int64\n",
       "Dozie                              int64\n",
       "Lily                               int64\n",
       "Nina                               int64\n",
       "New followers                    float64\n",
       "Category                           int64\n",
       "Time                             float64\n",
       "dtype: object"
      ]
     },
     "execution_count": 7,
     "metadata": {},
     "output_type": "execute_result"
    }
   ],
   "source": [
    "# Check data types\n",
    "sheet.dtypes"
   ]
  },
  {
   "cell_type": "code",
   "execution_count": 8,
   "id": "4886fe46",
   "metadata": {},
   "outputs": [
    {
     "data": {
      "text/html": [
       "<div>\n",
       "<style scoped>\n",
       "    .dataframe tbody tr th:only-of-type {\n",
       "        vertical-align: middle;\n",
       "    }\n",
       "\n",
       "    .dataframe tbody tr th {\n",
       "        vertical-align: top;\n",
       "    }\n",
       "\n",
       "    .dataframe thead th {\n",
       "        text-align: right;\n",
       "    }\n",
       "</style>\n",
       "<table border=\"1\" class=\"dataframe\">\n",
       "  <thead>\n",
       "    <tr style=\"text-align: right;\">\n",
       "      <th></th>\n",
       "      <th>Name:</th>\n",
       "      <th>Date</th>\n",
       "      <th>Min. followers</th>\n",
       "      <th>Follower jump</th>\n",
       "      <th>Jump binary</th>\n",
       "      <th>views</th>\n",
       "      <th>Video Length (s)</th>\n",
       "      <th>Average Watch time (s)</th>\n",
       "      <th>Watched Full Video (%)</th>\n",
       "      <th>Reached Audience</th>\n",
       "      <th>...</th>\n",
       "      <th>Priscilla</th>\n",
       "      <th>Anjana</th>\n",
       "      <th>Alessandra</th>\n",
       "      <th>Adiya</th>\n",
       "      <th>Dozie</th>\n",
       "      <th>Lily</th>\n",
       "      <th>Nina</th>\n",
       "      <th>New followers</th>\n",
       "      <th>Category</th>\n",
       "      <th>Time</th>\n",
       "    </tr>\n",
       "  </thead>\n",
       "  <tbody>\n",
       "    <tr>\n",
       "      <th>0</th>\n",
       "      <td>Oh no (sound trend)</td>\n",
       "      <td>2021-11-05</td>\n",
       "      <td>0</td>\n",
       "      <td>0</td>\n",
       "      <td>NaN</td>\n",
       "      <td>875</td>\n",
       "      <td>34.06</td>\n",
       "      <td>NaN</td>\n",
       "      <td>NaN</td>\n",
       "      <td>NaN</td>\n",
       "      <td>...</td>\n",
       "      <td>0</td>\n",
       "      <td>1</td>\n",
       "      <td>1</td>\n",
       "      <td>0</td>\n",
       "      <td>0</td>\n",
       "      <td>0</td>\n",
       "      <td>0</td>\n",
       "      <td>NaN</td>\n",
       "      <td>1</td>\n",
       "      <td>0.0</td>\n",
       "    </tr>\n",
       "    <tr>\n",
       "      <th>1</th>\n",
       "      <td>Full house</td>\n",
       "      <td>2021-11-05</td>\n",
       "      <td>0</td>\n",
       "      <td>0</td>\n",
       "      <td>0.0</td>\n",
       "      <td>2380</td>\n",
       "      <td>61.95</td>\n",
       "      <td>NaN</td>\n",
       "      <td>NaN</td>\n",
       "      <td>NaN</td>\n",
       "      <td>...</td>\n",
       "      <td>1</td>\n",
       "      <td>1</td>\n",
       "      <td>1</td>\n",
       "      <td>1</td>\n",
       "      <td>1</td>\n",
       "      <td>0</td>\n",
       "      <td>0</td>\n",
       "      <td>NaN</td>\n",
       "      <td>3</td>\n",
       "      <td>0.0</td>\n",
       "    </tr>\n",
       "    <tr>\n",
       "      <th>2</th>\n",
       "      <td>Joe as a scientist</td>\n",
       "      <td>2021-11-05</td>\n",
       "      <td>0</td>\n",
       "      <td>0</td>\n",
       "      <td>0.0</td>\n",
       "      <td>926</td>\n",
       "      <td>35.11</td>\n",
       "      <td>NaN</td>\n",
       "      <td>NaN</td>\n",
       "      <td>NaN</td>\n",
       "      <td>...</td>\n",
       "      <td>0</td>\n",
       "      <td>0</td>\n",
       "      <td>0</td>\n",
       "      <td>0</td>\n",
       "      <td>1</td>\n",
       "      <td>0</td>\n",
       "      <td>0</td>\n",
       "      <td>NaN</td>\n",
       "      <td>1</td>\n",
       "      <td>0.0</td>\n",
       "    </tr>\n",
       "    <tr>\n",
       "      <th>3</th>\n",
       "      <td>P and M dance</td>\n",
       "      <td>2021-11-09</td>\n",
       "      <td>0</td>\n",
       "      <td>0</td>\n",
       "      <td>0.0</td>\n",
       "      <td>1614</td>\n",
       "      <td>10.45</td>\n",
       "      <td>6.3</td>\n",
       "      <td>19.22</td>\n",
       "      <td>2048.0</td>\n",
       "      <td>...</td>\n",
       "      <td>1</td>\n",
       "      <td>0</td>\n",
       "      <td>0</td>\n",
       "      <td>0</td>\n",
       "      <td>0</td>\n",
       "      <td>0</td>\n",
       "      <td>0</td>\n",
       "      <td>NaN</td>\n",
       "      <td>1</td>\n",
       "      <td>4.0</td>\n",
       "    </tr>\n",
       "    <tr>\n",
       "      <th>4</th>\n",
       "      <td>day in life of scientist</td>\n",
       "      <td>2021-11-12</td>\n",
       "      <td>0</td>\n",
       "      <td>0</td>\n",
       "      <td>0.0</td>\n",
       "      <td>730</td>\n",
       "      <td>8.33</td>\n",
       "      <td>7.8</td>\n",
       "      <td>53.34</td>\n",
       "      <td>800.0</td>\n",
       "      <td>...</td>\n",
       "      <td>0</td>\n",
       "      <td>0</td>\n",
       "      <td>0</td>\n",
       "      <td>0</td>\n",
       "      <td>0</td>\n",
       "      <td>0</td>\n",
       "      <td>0</td>\n",
       "      <td>NaN</td>\n",
       "      <td>1</td>\n",
       "      <td>7.0</td>\n",
       "    </tr>\n",
       "    <tr>\n",
       "      <th>5</th>\n",
       "      <td>PBS</td>\n",
       "      <td>2021-11-13</td>\n",
       "      <td>0</td>\n",
       "      <td>0</td>\n",
       "      <td>0.0</td>\n",
       "      <td>2236</td>\n",
       "      <td>12.74</td>\n",
       "      <td>10.3</td>\n",
       "      <td>47.76</td>\n",
       "      <td>2189.0</td>\n",
       "      <td>...</td>\n",
       "      <td>0</td>\n",
       "      <td>0</td>\n",
       "      <td>0</td>\n",
       "      <td>1</td>\n",
       "      <td>0</td>\n",
       "      <td>0</td>\n",
       "      <td>0</td>\n",
       "      <td>NaN</td>\n",
       "      <td>1</td>\n",
       "      <td>8.0</td>\n",
       "    </tr>\n",
       "    <tr>\n",
       "      <th>6</th>\n",
       "      <td>twinnenem</td>\n",
       "      <td>2021-11-16</td>\n",
       "      <td>0</td>\n",
       "      <td>0</td>\n",
       "      <td>0.0</td>\n",
       "      <td>699</td>\n",
       "      <td>12.30</td>\n",
       "      <td>12.3</td>\n",
       "      <td>58.94</td>\n",
       "      <td>660.0</td>\n",
       "      <td>...</td>\n",
       "      <td>0</td>\n",
       "      <td>0</td>\n",
       "      <td>0</td>\n",
       "      <td>0</td>\n",
       "      <td>0</td>\n",
       "      <td>0</td>\n",
       "      <td>0</td>\n",
       "      <td>NaN</td>\n",
       "      <td>1</td>\n",
       "      <td>11.0</td>\n",
       "    </tr>\n",
       "    <tr>\n",
       "      <th>7</th>\n",
       "      <td>dirty lab bench</td>\n",
       "      <td>2021-11-19</td>\n",
       "      <td>0</td>\n",
       "      <td>0</td>\n",
       "      <td>0.0</td>\n",
       "      <td>1056</td>\n",
       "      <td>14.12</td>\n",
       "      <td>8.9</td>\n",
       "      <td>24.22</td>\n",
       "      <td>1038.0</td>\n",
       "      <td>...</td>\n",
       "      <td>1</td>\n",
       "      <td>0</td>\n",
       "      <td>0</td>\n",
       "      <td>0</td>\n",
       "      <td>0</td>\n",
       "      <td>0</td>\n",
       "      <td>0</td>\n",
       "      <td>NaN</td>\n",
       "      <td>1</td>\n",
       "      <td>14.0</td>\n",
       "    </tr>\n",
       "    <tr>\n",
       "      <th>8</th>\n",
       "      <td>buggin ya boss</td>\n",
       "      <td>2021-11-23</td>\n",
       "      <td>0</td>\n",
       "      <td>0</td>\n",
       "      <td>0.0</td>\n",
       "      <td>674</td>\n",
       "      <td>6.62</td>\n",
       "      <td>8.9</td>\n",
       "      <td>61.86</td>\n",
       "      <td>635.0</td>\n",
       "      <td>...</td>\n",
       "      <td>1</td>\n",
       "      <td>1</td>\n",
       "      <td>1</td>\n",
       "      <td>0</td>\n",
       "      <td>0</td>\n",
       "      <td>0</td>\n",
       "      <td>0</td>\n",
       "      <td>NaN</td>\n",
       "      <td>3</td>\n",
       "      <td>18.0</td>\n",
       "    </tr>\n",
       "    <tr>\n",
       "      <th>9</th>\n",
       "      <td>Lab olympics intro</td>\n",
       "      <td>2021-11-27</td>\n",
       "      <td>0</td>\n",
       "      <td>0</td>\n",
       "      <td>0.0</td>\n",
       "      <td>899</td>\n",
       "      <td>38.45</td>\n",
       "      <td>17.5</td>\n",
       "      <td>16.46</td>\n",
       "      <td>841.0</td>\n",
       "      <td>...</td>\n",
       "      <td>1</td>\n",
       "      <td>1</td>\n",
       "      <td>1</td>\n",
       "      <td>1</td>\n",
       "      <td>1</td>\n",
       "      <td>0</td>\n",
       "      <td>0</td>\n",
       "      <td>NaN</td>\n",
       "      <td>3</td>\n",
       "      <td>22.0</td>\n",
       "    </tr>\n",
       "  </tbody>\n",
       "</table>\n",
       "<p>10 rows × 37 columns</p>\n",
       "</div>"
      ],
      "text/plain": [
       "                      Name:       Date  Min. followers  Follower jump  \\\n",
       "0       Oh no (sound trend) 2021-11-05               0              0   \n",
       "1                Full house 2021-11-05               0              0   \n",
       "2        Joe as a scientist 2021-11-05               0              0   \n",
       "3             P and M dance 2021-11-09               0              0   \n",
       "4  day in life of scientist 2021-11-12               0              0   \n",
       "5                       PBS 2021-11-13               0              0   \n",
       "6                 twinnenem 2021-11-16               0              0   \n",
       "7           dirty lab bench 2021-11-19               0              0   \n",
       "8            buggin ya boss 2021-11-23               0              0   \n",
       "9        Lab olympics intro 2021-11-27               0              0   \n",
       "\n",
       "   Jump binary  views  Video Length (s)  Average Watch time (s)  \\\n",
       "0          NaN    875             34.06                     NaN   \n",
       "1          0.0   2380             61.95                     NaN   \n",
       "2          0.0    926             35.11                     NaN   \n",
       "3          0.0   1614             10.45                     6.3   \n",
       "4          0.0    730              8.33                     7.8   \n",
       "5          0.0   2236             12.74                    10.3   \n",
       "6          0.0    699             12.30                    12.3   \n",
       "7          0.0   1056             14.12                     8.9   \n",
       "8          0.0    674              6.62                     8.9   \n",
       "9          0.0    899             38.45                    17.5   \n",
       "\n",
       "   Watched Full Video (%)  Reached Audience  ...  Priscilla  Anjana  \\\n",
       "0                     NaN               NaN  ...          0       1   \n",
       "1                     NaN               NaN  ...          1       1   \n",
       "2                     NaN               NaN  ...          0       0   \n",
       "3                   19.22            2048.0  ...          1       0   \n",
       "4                   53.34             800.0  ...          0       0   \n",
       "5                   47.76            2189.0  ...          0       0   \n",
       "6                   58.94             660.0  ...          0       0   \n",
       "7                   24.22            1038.0  ...          1       0   \n",
       "8                   61.86             635.0  ...          1       1   \n",
       "9                   16.46             841.0  ...          1       1   \n",
       "\n",
       "   Alessandra  Adiya  Dozie  Lily  Nina  New followers  Category  Time  \n",
       "0           1      0      0     0     0            NaN         1   0.0  \n",
       "1           1      1      1     0     0            NaN         3   0.0  \n",
       "2           0      0      1     0     0            NaN         1   0.0  \n",
       "3           0      0      0     0     0            NaN         1   4.0  \n",
       "4           0      0      0     0     0            NaN         1   7.0  \n",
       "5           0      1      0     0     0            NaN         1   8.0  \n",
       "6           0      0      0     0     0            NaN         1  11.0  \n",
       "7           0      0      0     0     0            NaN         1  14.0  \n",
       "8           1      0      0     0     0            NaN         3  18.0  \n",
       "9           1      1      1     0     0            NaN         3  22.0  \n",
       "\n",
       "[10 rows x 37 columns]"
      ]
     },
     "execution_count": 8,
     "metadata": {},
     "output_type": "execute_result"
    }
   ],
   "source": [
    "# Check dataframe\n",
    "sheet.head(10)"
   ]
  },
  {
   "cell_type": "markdown",
   "id": "085464db",
   "metadata": {},
   "source": [
    "#### Sample questions to answer using clustering ####"
   ]
  },
  {
   "cell_type": "markdown",
   "id": "905ffdca",
   "metadata": {},
   "source": [
    "- Are some categories of videos more popular/impactful than others?\n",
    "- Is some content/are some categories more educational than others? (e.g. are they saved more, or watched til completion more?) Do more educational videos widen the reach of the channel?\n",
    "- Is there a form of engagement (i.e. likes, comments, shares, and/or bookmarks) that matters most to views or channel growth?\n",
    "- Are any lab members more popular than others?\n",
    "- What's unique about promoted videos?\n",
    "- What's unique about videos that generate a large jump in followers?"
   ]
  },
  {
   "cell_type": "markdown",
   "id": "80379075",
   "metadata": {},
   "source": [
    "**Plot some initial relationships**"
   ]
  },
  {
   "cell_type": "markdown",
   "id": "a9a1bca7",
   "metadata": {},
   "source": [
    "*How has follower count changed over time?*"
   ]
  },
  {
   "cell_type": "code",
   "execution_count": 24,
   "id": "13bc689d",
   "metadata": {},
   "outputs": [
    {
     "data": {
      "image/png": "[encoded data removed]",
      "text/plain": [
       "<Figure size 432x288 with 1 Axes>"
      ]
     },
     "metadata": {
      "needs_background": "light"
     },
     "output_type": "display_data"
    }
   ],
   "source": [
    "sns.lineplot(data=sheet, x='Time', y='Min. followers')\n",
    "plt.xlabel('Days')\n",
    "plt.savefig('MinFollowers_overtime.png', dpi=300)\n",
    "plt.show()"
   ]
  },
  {
   "cell_type": "markdown",
   "id": "88aeae66",
   "metadata": {},
   "source": [
    "*What videos caused a jump in followers?* "
   ]
  },
  {
   "cell_type": "code",
   "execution_count": 26,
   "id": "cb5d2b61",
   "metadata": {},
   "outputs": [
    {
     "data": {
      "image/png": "[encoded data removed]",
      "text/plain": [
       "<Figure size 432x288 with 1 Axes>"
      ]
     },
     "metadata": {
      "needs_background": "light"
     },
     "output_type": "display_data"
    }
   ],
   "source": [
    "# Create a figure plotting jumps over time\n",
    "sns.lineplot(data=sheet, x='Time', y='Follower jump')\n",
    "plt.xlabel('Days')\n",
    "plt.savefig('Jump_overtime.png', dpi=300)\n",
    "plt.show()"
   ]
  },
  {
   "cell_type": "code",
   "execution_count": 30,
   "id": "81ddc97d",
   "metadata": {},
   "outputs": [
    {
     "data": {
      "image/png": "[encoded data removed]",
      "text/plain": [
       "<Figure size 720x576 with 1 Axes>"
      ]
     },
     "metadata": {
      "needs_background": "light"
     },
     "output_type": "display_data"
    }
   ],
   "source": [
    "# Label this graph with the title of the video we assume lead to the jump\n",
    "df_jump = sheet[sheet['Follower jump']>0]\n",
    "plt.figure(figsize=(10,8))\n",
    "sns.lineplot(data=sheet, x='Time', y='Follower jump')\n",
    "p1 = sns.scatterplot(data=df_jump, x='Time', y='Follower jump', size=100, color='deeppink', legend=False)\n",
    "plt.xlabel('Days')\n",
    "plt.ylabel('Increase in follower count')\n",
    "\n",
    "for i in range(len(df_jump)):\n",
    "    p1.text(df_jump['Time'].iloc[i]+0.1, df_jump['Follower jump'].iloc[i], \n",
    "            df_jump['Name:'].iloc[i], horizontalalignment='left', size='medium', color='deeppink', weight='semibold')\n",
    "        \n",
    "plt.savefig('Jump_overtime_labeled.png', dpi=300)\n",
    "plt.show()"
   ]
  },
  {
   "cell_type": "markdown",
   "id": "ca58cced",
   "metadata": {},
   "source": [
    "### Clustering methods begin ###"
   ]
  },
  {
   "cell_type": "markdown",
   "id": "e6b7a3e2",
   "metadata": {},
   "source": [
    "Series of repeated steps designed to address each question. Steps include:\n",
    "   - Select relevant columns\n",
    "   - Plot pairwise relationships between columns\n",
    "   - If relationships warrant further investigation, label interesting data points with video names\n",
    "   - Generate correlation matrix to ensure machine learning features aren't highly correlated\n",
    "   - Generate a scree plot to inform the number of mathematically significant clusters to retain\n",
    "   - Perform Kmeans analysis, understood to be a general-purpose, robust clustering method\n",
    "   - Calculate statistics to assess goodness of cluster, i.e. silhouette score\n",
    "   - Plot clusters\n",
    "   - Note interpretation"
   ]
  },
  {
   "cell_type": "code",
   "execution_count": 31,
   "id": "d7c9e30d",
   "metadata": {},
   "outputs": [],
   "source": [
    "# Save numerical data with clusters to an excel sheet for later additional analysis\n",
    "# Create excel writer\n",
    "writer = pd.ExcelWriter('Clustering_analysis.xlsx', engine='openpyxl')  # To write excel sheets"
   ]
  },
  {
   "cell_type": "code",
   "execution_count": 46,
   "id": "b148b320",
   "metadata": {},
   "outputs": [],
   "source": [
    "# Create dataframe that silhouette scores will be saved to\n",
    "df_sil = pd.DataFrame()"
   ]
  },
  {
   "cell_type": "markdown",
   "id": "f5a3aae7",
   "metadata": {},
   "source": [
    "**Question 1: are some categories of videos more popular or impactful than others**"
   ]
  },
  {
   "cell_type": "code",
   "execution_count": 33,
   "id": "1071b021",
   "metadata": {},
   "outputs": [],
   "source": [
    "# Create a \"name\" for this analysis for saving files\n",
    "analysis_name = 'Popular_categories'"
   ]
  },
  {
   "cell_type": "code",
   "execution_count": 35,
   "id": "75cfc778",
   "metadata": {},
   "outputs": [],
   "source": [
    "# Select relevant columns from data frame\n",
    "df = sheet[['Name:', 'Engagement', 'views', 'Category']]  # Edit, always include \"Name:\"\n",
    "\n",
    "# Remove any rows with null values\n",
    "df = df.dropna(how='any', axis=0)"
   ]
  },
  {
   "cell_type": "code",
   "execution_count": 36,
   "id": "cd35252e",
   "metadata": {},
   "outputs": [
    {
     "data": {
      "image/png": "[encoded data removed]",
      "text/plain": [
       "<Figure size 540x540 with 12 Axes>"
      ]
     },
     "metadata": {
      "needs_background": "light"
     },
     "output_type": "display_data"
    }
   ],
   "source": [
    "# Plot pairwise relationships between columns\n",
    "# Display and save a pairplot showing relationships between features\n",
    "sns.pairplot(df)\n",
    "plt.savefig(analysis_name + '_pairplot.png', dpi=300)  # Save in results folder\n",
    "plt.show()"
   ]
  },
  {
   "cell_type": "code",
   "execution_count": 68,
   "id": "75f9b633",
   "metadata": {},
   "outputs": [
    {
     "data": {
      "image/png": "[encoded data removed]",
      "text/plain": [
       "<Figure size 432x288 with 1 Axes>"
      ]
     },
     "metadata": {
      "needs_background": "light"
     },
     "output_type": "display_data"
    }
   ],
   "source": [
    "# Label interesting data points with video names\n",
    "df_subset = df[df['Engagement']>17500]  # Edit condition\n",
    "x_variable = 'Category' # Edit variables\n",
    "y_variable = 'Engagement'\n",
    "plt.xlabel(x_variable)\n",
    "plt.ylabel(y_variable)\n",
    "plt.scatter(x=df[x_variable], y=df[y_variable])  # All data points\n",
    "plt.scatter(x=df_subset[x_variable], y=df_subset[y_variable], color='deeppink')  # Select data points\n",
    "\n",
    "# Names, need to edit\n",
    "for i in range(len(df_subset)):\n",
    "    plt.text(df_subset[x_variable].iloc[i]+0.1, df_subset[y_variable].iloc[i], \n",
    "            df_subset['Name:'].iloc[i], horizontalalignment='left', size='medium', color='deeppink', weight='semibold')\n",
    "        \n",
    "plt.savefig(analysis_name + '_labeled-points.png', dpi=300)\n",
    "plt.show()"
   ]
  },
  {
   "cell_type": "code",
   "execution_count": 41,
   "id": "8042cbb7",
   "metadata": {},
   "outputs": [
    {
     "data": {
      "image/png": "[encoded data removed]",
      "text/plain": [
       "<Figure size 432x288 with 2 Axes>"
      ]
     },
     "metadata": {
      "needs_background": "light"
     },
     "output_type": "display_data"
    }
   ],
   "source": [
    "# Begin clustering: generate a correlation matrix\n",
    "corrMatrix = df.corr()\n",
    "sns.heatmap(corrMatrix, annot=True)\n",
    "plt.savefig(analysis_name + '_correlation-matrix.png', dpi=300)  # Save in results folder\n",
    "plt.show()"
   ]
  },
  {
   "cell_type": "code",
   "execution_count": 52,
   "id": "428482b3",
   "metadata": {},
   "outputs": [
    {
     "data": {
      "image/png": "[encoded data removed]",
      "text/plain": [
       "<Figure size 432x288 with 1 Axes>"
      ]
     },
     "metadata": {
      "needs_background": "light"
     },
     "output_type": "display_data"
    }
   ],
   "source": [
    "# Generate a scree plot\n",
    "sse = {}\n",
    "df_X = df.drop('Name:', axis=1) # Drop name so only numerical columns remain, this is the x block for analysis\n",
    "df_scree = df_X.copy()  # Leave original X set unchanged\n",
    "for k in range(1, 12):  # Range of 1 to 12 clusters, could easily edit\n",
    "    kmeans = KMeans(n_clusters=k, max_iter=1000).fit(df_scree)\n",
    "    df_scree[\"Clusters\"] = kmeans.labels_\n",
    "    #print(data[\"clusters\"])\n",
    "    sse[k] = kmeans.inertia_ # Inertia: Sum of distances of samples to their closest cluster center\n",
    "plt.figure()\n",
    "plt.plot(list(sse.keys()), list(sse.values()))\n",
    "plt.xlabel(\"Number of clusters\")\n",
    "plt.ylabel(\"SSE\")\n",
    "plt.tight_layout()\n",
    "plt.savefig(analysis_name + '_scree.png', dpi=300)"
   ]
  },
  {
   "cell_type": "code",
   "execution_count": 54,
   "id": "fafbf5f7",
   "metadata": {},
   "outputs": [],
   "source": [
    "# Perform K-means analysis\n",
    "k = 2  # Edit based on scree plot, looking for \"elbow\" point\n",
    "# Partition clusters\n",
    "kmeans = KMeans(n_clusters=k, random_state=100)\n",
    "kmeans_labels = kmeans.fit_predict(df_X)  # Note each label will be an integer, starting at 0 (0, 1, 2.. etc.)"
   ]
  },
  {
   "cell_type": "code",
   "execution_count": 60,
   "id": "876c6324",
   "metadata": {},
   "outputs": [],
   "source": [
    "df_X['Label'] = kmeans_labels"
   ]
  },
  {
   "cell_type": "code",
   "execution_count": 61,
   "id": "bd8bf6c3",
   "metadata": {},
   "outputs": [
    {
     "name": "stdout",
     "output_type": "stream",
     "text": [
      "Silhouette coefficient: 0.9676335805158067\n"
     ]
    }
   ],
   "source": [
    "# Calculate silhoutte score, save to list that will be saved as final analysis sheet\n",
    "# -1 indicates poor clustering, 1 indicates perfect clustering\n",
    "silhouette_coefficient = metrics.silhouette_score(df_X, kmeans_labels)\n",
    "print(\"Silhouette coefficient: \" + str(silhouette_coefficient))\n",
    "\n",
    "dict_sc = {analysis_name : silhouette_coefficient}  # Dict\n",
    "dict_df = pd.DataFrame(dict_sc, index=[0])  # Dataframe\n",
    "df_sil = df_sil.append(dict_df, ignore_index=True)"
   ]
  },
  {
   "cell_type": "code",
   "execution_count": 62,
   "id": "2173ed02",
   "metadata": {},
   "outputs": [],
   "source": [
    "# Plot clusters on pairwise graphs\n",
    "# Create a 2D scatter plot of labels from all combinations of two features\n",
    "graph_count = 1  # For saving figures\n",
    "\n",
    "for pair in itertools.combinations(df_X.columns, 2):\n",
    "    sns.scatterplot(data=df_X, x=pair[0], y=pair[1], hue='Label')  # Color: sample, shape: label\n",
    "    plt.xlabel(pair[0])\n",
    "    plt.ylabel(pair[1])\n",
    "    plt.tight_layout()\n",
    "    plt.savefig(analysis_name + '_paired-features_' + str(graph_count) + '.png', dpi=300)\n",
    "    plt.close()\n",
    "    graph_count +=1 # Some feature column names may contain unicode characters unsuitable for file names\n",
    "    \n",
    "# Users will need to sort through graphs to find interesting combinations"
   ]
  },
  {
   "cell_type": "code",
   "execution_count": 63,
   "id": "722d9d6e",
   "metadata": {},
   "outputs": [],
   "source": [
    "# Save data with cluster labels for further analysis, be sure to change excel sheet name to reflect question\n",
    "df_with_labels = df.copy()\n",
    "df_with_labels['Label'] = kmeans_labels\n",
    "df_with_labels.to_excel(writer, sheet_name=analysis_name, index=False)"
   ]
  },
  {
   "cell_type": "markdown",
   "id": "83688b88",
   "metadata": {},
   "source": [
    "**Note interpretation for later reference**\n",
    "- Clusters appear to be assigned mostly by follower count/engagement data. Videos in the high follower count/engagement data were in the trends (1), disney princesses (2), or an original skit (1) categories"
   ]
  },
  {
   "cell_type": "markdown",
   "id": "30e4e84c",
   "metadata": {},
   "source": [
    "**Final steps**"
   ]
  },
  {
   "cell_type": "code",
   "execution_count": 64,
   "id": "807d5714",
   "metadata": {},
   "outputs": [],
   "source": [
    "# Save silhoutte scores\n",
    "df_sil.to_excel(writer, sheet_name='Silhouette scores', index=False)"
   ]
  },
  {
   "cell_type": "code",
   "execution_count": 65,
   "id": "15f4284b",
   "metadata": {},
   "outputs": [],
   "source": [
    "# Save and close writer to export results excel\n",
    "writer.save()\n",
    "writer.close()"
   ]
  },
  {
   "cell_type": "markdown",
   "id": "1fff535d",
   "metadata": {},
   "source": [
    "**Comments, questions, or concerns?** Check us out at @scieneers on tiktok and stay tuned for our peer-reviewed manuscript celebrating one year of outreach! In the meantime, please feel free to contact me at meredith.e.fay@gmail.com"
   ]
  },
  {
   "cell_type": "code",
   "execution_count": null,
   "id": "bc4a68ad",
   "metadata": {},
   "outputs": [],
   "source": []
  }
 ],
 "metadata": {
  "kernelspec": {
   "display_name": "Python 3 (ipykernel)",
   "language": "python",
   "name": "python3"
  },
  "language_info": {
   "codemirror_mode": {
    "name": "ipython",
    "version": 3
   },
   "file_extension": ".py",
   "mimetype": "text/x-python",
   "name": "python",
   "nbconvert_exporter": "python",
   "pygments_lexer": "ipython3",
   "version": "3.7.11"
  }
 },
 "nbformat": 4,
 "nbformat_minor": 5
}
